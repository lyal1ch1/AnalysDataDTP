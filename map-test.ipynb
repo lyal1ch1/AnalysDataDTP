{
 "cells": [
  {
   "cell_type": "code",
   "execution_count": 1,
   "metadata": {},
   "outputs": [
    {
     "name": "stdout",
     "output_type": "stream",
     "text": [
      "[39.05298165 39.159344   39.17664    39.159344   39.159344  ]\n",
      "[-86.51332005 -86.53237322 -86.54108212 -86.52243471 -86.51893616]\n"
     ]
    }
   ],
   "source": [
    "# import pandas as pd\n",
    "# import numpy as np\n",
    "\n",
    "# # Загрузка данных из CSV файла\n",
    "# df = pd.read_csv(\"crash-data-monroe-county-2013-2018-7.csv\",  encoding= 'ISO-8859-1')\n",
    "\n",
    "\n",
    "# # Извлечение значений координат из столбцов\n",
    "# coordinatesX = df['Latitude'].values\n",
    "# coordinatesY = df['Longitude'].values\n",
    "# cleaned_coordinatesX = coordinatesX[~np.isnan(coordinatesX).any(axis=1)]\n",
    "# cleaned_coordinatesY = coordinatesY[~np.isnan(coordinatesY).any(axis=1)]\n",
    "# # coordinatesX = coordinatesX[coordinatesX  != 0] # Удаление пустых строк\n",
    "# # coordinatesY = coordinatesY[coordinatesY  != 0] # Удаление пустых строк\n",
    "# # coordinatesX = coordinatesX[coordinatesX  != \"\"] # Удаление пустых строк\n",
    "# # coordinatesY = coordinatesY[coordinatesY  != \"\"] # Удаление пустых строк\n",
    "\n",
    "# # Вывод первых нескольких координат для проверки\n",
    "# # print(coordinates[:5])\n",
    "# print(type(coordinatesY))\n",
    "\n",
    "import pandas as pd\n",
    "import numpy as np\n",
    "\n",
    "# Загрузка данных из CSV файла\n",
    "df = pd.read_csv(\"crash-data-monroe-county-2013-2018-7.csv\",  encoding= 'ISO-8859-1')\n",
    "\n",
    "\n",
    "# Извлечение координат из столбцов\n",
    "coordinatesX = df['Latitude'].values\n",
    "coordinatesY = df['Longitude'].values\n",
    "\n",
    "# Удаление NaN значений\n",
    "cleaned_coordinatesX = coordinatesX[~np.isnan(coordinatesX)]\n",
    "cleaned_coordinatesY = coordinatesY[~np.isnan(coordinatesY)]\n",
    "\n",
    "# Вывод первых нескольких координат для проверки\n",
    "print(cleaned_coordinatesX[:5])\n",
    "print(cleaned_coordinatesY[:5])\n"
   ]
  },
  {
   "cell_type": "code",
   "execution_count": 2,
   "metadata": {},
   "outputs": [
    {
     "data": {
      "image/png": "[encoded data removed]",
      "text/plain": [
       "<Figure size 640x480 with 1 Axes>"
      ]
     },
     "metadata": {},
     "output_type": "display_data"
    }
   ],
   "source": [
    "import matplotlib.pyplot as plt\n",
    "\n",
    "# Создание списка координат точек\n",
    "x = [35.25, 31.5, 32.75, 34]\n",
    "y = [40, 41.25, 42.5, 43.75]\n",
    "\n",
    "plt.scatter(x, y)\n",
    "plt.xlabel('Longitude')\n",
    "plt.ylabel('Latitude')\n",
    "plt.title('Map with Matplotlib')\n",
    "plt.show()\n"
   ]
  },
  {
   "cell_type": "code",
   "execution_count": 3,
   "metadata": {},
   "outputs": [],
   "source": [
    "import folium\n",
    "\n",
    "# Создание объекта карты\n",
    "m = folium.Map(location=[39.15, -86.5], zoom_start=13)\n",
    "\n",
    "# Добавление точек на карту\n",
    "for lat, lon in zip(cleaned_coordinatesX[:5000], cleaned_coordinatesY[:5000]):\n",
    "    folium.Marker([lat, lon], popup=folium.Popup(\"Let's try quotes\", parse_html=True, max_width=100)).add_to(m)\n",
    "\n",
    "# Отображение карты\n",
    "m.save('map.html')  # сохранить карту в HTML-файле\n"
   ]
  },
  {
   "cell_type": "code",
   "execution_count": 4,
   "metadata": {},
   "outputs": [],
   "source": [
    "# import geopandas as gpd\n",
    "# from shapely.geometry import Point\n",
    "\n",
    "# # Создание геодатафрейма\n",
    "# geometry = [Point(lon, lat) for lon, lat in zip(x, y)]\n",
    "# gdf = gpd.GeoDataFrame(geometry=geometry, crs='EPSG:4326')\n",
    "\n",
    "# # Отображение геодатафрейма\n",
    "# world = gpd.read_file(gpd.datasets.get_path('naturalearth_lowres'))\n",
    "# ax = world.plot()\n",
    "# gdf.plot(ax=ax, color='red', markersize=5)\n",
    "# plt.show()\n"
   ]
  },
  {
   "cell_type": "code",
   "execution_count": 5,
   "metadata": {},
   "outputs": [],
   "source": [
    "# import plotly.express as px\n",
    "\n",
    "# # Создание датафрейма с координатами точек\n",
    "# import pandas as pd\n",
    "# df = pd.DataFrame({'lat': y, 'lon': x})\n",
    "\n",
    "# # Отображение точек на карте\n",
    "# fig = px.scatter_mapbox(df, lat=\"lat\", lon=\"lon\", zoom=5)\n",
    "# fig.update_layout(mapbox_style=\"open-street-map\")\n",
    "# fig.show()\n"
   ]
  },
  {
   "cell_type": "code",
   "execution_count": null,
   "metadata": {},
   "outputs": [],
   "source": []
  }
 ],
 "metadata": {
  "kernelspec": {
   "display_name": "Python 3",
   "language": "python",
   "name": "python3"
  },
  "language_info": {
   "codemirror_mode": {
    "name": "ipython",
    "version": 3
   },
   "file_extension": ".py",
   "mimetype": "text/x-python",
   "name": "python",
   "nbconvert_exporter": "python",
   "pygments_lexer": "ipython3",
   "version": "3.11.7"
  }
 },
 "nbformat": 4,
 "nbformat_minor": 2
}
